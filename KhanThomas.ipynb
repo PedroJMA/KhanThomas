{
 "cells": [
  {
   "cell_type": "markdown",
   "metadata": {},
   "source": [
    "# The Khan and Thomas Model in Continuous Time\n",
    "*Final Project for Computational Economics*\n",
    "\n",
    "**Victoria Gregory, June 2016**\n",
    "\n",
    "____\n",
    "\n",
    "This notebook contains code for replicating the [Khan and Thomas (2008)](http://www.aubhik-khan.net/ecta5894.pdf) model in Julia and is part of my final project for [John Stachurski's computational economics course](https://github.com/jstac/quantecon_nyu_2016). A continuous time solution method is used, based on techniques developed by [Achdou, Han, Lasry, Lions, and Moll (2015)](http://www.princeton.edu/~moll/HACT.pdf) and [Ahn, Kaplan, Moll, and Winberry (2016)](http://www.princeton.edu/~moll/phactSlides.pdf). All code is adapted from the Matlab files available [here](http://www.princeton.edu/~moll/PHACTproject.htm). For additional details on the model or solution method, please refer to the papers above or [my accompanying document](https://github.com/vgregory757/KhanThomas/blob/master/Gregory_Project.pdf).\n",
    "\n",
    "___"
   ]
  },
  {
   "cell_type": "markdown",
   "metadata": {},
   "source": [
    "## Steady State\n",
    "\n",
    "The first part of this notebook will go through the computation of the steady state of the model (i.e., with the aggregate TFP shocks shut down). The steady state solution is needed for the perturbation method used to solve for the aggregate dynamics.\n",
    "\n",
    "I first define two types that are useful for storing information relevant to the model and its steady state solution.\n",
    "* `KTModel`: Contains economic parameters, state space grids, and all other settings used for solving for the steady state\n",
    "* `KTss`: This will contain all the steady state objects of the model solution. It will be useful later in the code when we want to refer to them when computing the aggregate dynamics."
   ]
  },
  {
   "cell_type": "code",
   "execution_count": 18,
   "metadata": {
    "collapsed": false
   },
   "outputs": [],
   "source": [
    "#---------------------------------------------\n",
    "# Define model type containing all parameters\n",
    "#---------------------------------------------\n",
    "\n",
    "type KTModel\n",
    "  # Economic parameters:\n",
    "  σ::Float64    # risk aversion coefficient\n",
    "  ρ::Float64    # discount rate\n",
    "  ϕ::Float64    # Frisch elasticity\n",
    "  Θ::Float64    # capital coefficient\n",
    "  ν::Float64    # labor coefficient\n",
    "  δ::Float64    # depreciation rate\n",
    "  χ0::Float64   # capital adj. costs\n",
    "  χ1::Float64\n",
    "  σTFP::Float64 # std. dev of TFP shocks\n",
    "  ρTFP::Float64 # autocorr. of TFP shocks\n",
    "\n",
    "  # Approximation parameters:\n",
    "  nE::Int64              # grid sizes\n",
    "  nK::Int64\n",
    "\n",
    "  ϵ::Vector{Float64}     # productivity shocks\n",
    "  ee::Matrix{Float64}\n",
    "  eee::Vector{Float64}\n",
    "  λ1::Float64\n",
    "  λ2::Float64\n",
    "  llaE::Vector{Float64}\n",
    "  eAvg::Float64\n",
    "\n",
    "  kmin::Float64         # capital grid\n",
    "  kmax::Float64\n",
    "  k::Vector{Float64}\n",
    "  kk::Matrix{Float64}\n",
    "  kkk::Vector{Float64}\n",
    "  dk::Float64\n",
    "\n",
    "  mLamF::SparseMatrixCSC{Float64,Int64}  # useful for computations later\n",
    "\n",
    "  wmin::Float64           # for steady state computations\n",
    "  wmax::Float64\n",
    "  w0::Float64\n",
    "  crit::Float64\n",
    "  Δ::Float64\n",
    "  maxit::Int64\n",
    "\n",
    "  nVars::Int64           # Number of endogenous variables\n",
    "  nEErrors::Int64\n",
    "end\n",
    "\n",
    "#---------------------------------------------------\n",
    "# Define type for steady state solution of the model\n",
    "#---------------------------------------------------\n",
    "type KTss\n",
    "  w::Float64\n",
    "  output::Float64\n",
    "  sdf::Float64\n",
    "  v::Matrix{Float64}\n",
    "  g::Matrix{Float64}\n",
    "  If::BitArray\n",
    "  Ib::BitArray\n",
    "  I0::Matrix{Int64}\n",
    "  investment::Matrix{Float64}\n",
    "  vars::Vector{Float64}\n",
    "end"
   ]
  },
  {
   "cell_type": "markdown",
   "metadata": {},
   "source": [
    "The following function sets up a `KTModel` type based on user-chosen parameters (allows for default values, given below). It sets up the grids for idiosyncratic productivity and capital with two different arrangements, the minimum and maximum values for bisection over the wage, and a matrix that will be used in constructing the intensity matrix $\\mathbf{A}$ later on. All grids are centered around representative-agent steady state values, in which everyone has the average of the productivity levels. It outputs everything into a `KTModel` type."
   ]
  },
  {
   "cell_type": "code",
   "execution_count": 19,
   "metadata": {
    "collapsed": false
   },
   "outputs": [
    {
     "data": {
      "text/plain": [
       "KTModel"
      ]
     },
     "execution_count": 19,
     "metadata": {},
     "output_type": "execute_result"
    }
   ],
   "source": [
    "#---------------------------------------------------\n",
    "# Function that sets up the Khan/Thomas model\n",
    "#---------------------------------------------------\n",
    "\n",
    "function KTModel(;σ::Float64=2.0,\n",
    "  ρ::Float64=0.01,\n",
    "  ϕ::Float64=0.5,\n",
    "  Θ::Float64=0.21,\n",
    "  ν::Float64=0.64,\n",
    "  δ::Float64=0.025,\n",
    "  χ0::Float64=0.001,\n",
    "  χ1::Float64=2.0,\n",
    "  σTFP::Float64=0.007,\n",
    "  ρTFP::Float64=0.95,\n",
    "  nE::Int64=2,\n",
    "  nK::Int64=100,\n",
    "  ϵ::Vector{Float64}=[0.9, 1.1],\n",
    "  λ1::Float64=0.25,\n",
    "  λ2::Float64=0.25,\n",
    "  crit::Float64=1e-6,\n",
    "  Δ::Float64=1.0e4,\n",
    "  maxit::Int64=100)\n",
    "\n",
    "  # set up space for idiosyncratic productivity shocks\n",
    "  ee = ones(nK,1)*ϵ'\n",
    "  eee = vec(reshape(ee,nE*nK,1))\n",
    "  llaE = vec([λ1, λ2])\n",
    "  eAvg = (llaE[1]*ϵ[2] + llaE[2]*ϵ[1])/(llaE[1] + llaE[2])\n",
    "\n",
    "  # solve for representative agent steady state\n",
    "  kRepSS = ((eAvg * Θ * ((1/3)) ^ ν) / (ρ + δ)) ^ (1 / (1 - Θ));\n",
    "  wRepSS = eAvg * (kRepSS ^ Θ) * ν * ((1/3)) ^ (ν - 1);\n",
    "  yRepSS = eAvg * (kRepSS ^ Θ) * (((1/3)) ^ ν)\n",
    "\n",
    "  # set-up the capital grid\n",
    "  kmin = 0.8*kRepSS\n",
    "  kmax = 1.2*kRepSS\n",
    "  k = linspace(kmin, kmax, nK)\n",
    "  k = collect(k)\n",
    "  kk = k*ones(1,nE)\n",
    "  kkk = vec(reshape(kk,nE*nK,1))\n",
    "  dk = (kmax - kmin)/(nK-1)\n",
    "\n",
    "  # for computation\n",
    "  mLamF = [-speye(nK) * llaE[1] speye(nK) * llaE[1]; speye(nK) * llaE[2] -speye(nK) * llaE[2]];\n",
    "\n",
    "  # steady state computations\n",
    "  wmin = 0.8*wRepSS\n",
    "  wmax = 1.2*wRepSS\n",
    "  w0 = wRepSS\n",
    "\n",
    "  # number of endogenous variables\n",
    "  nVars = 2*nE*nK-1+2\n",
    "  nEErrors = nE*nK\n",
    "\n",
    "  # put everything into a KTModel type\n",
    "  KTModel(σ, ρ, ϕ, Θ, ν, δ, χ0, χ1, σTFP, ρTFP, nE, nK, ϵ,\n",
    "  ee, eee, λ1, λ2, llaE, eAvg, kmin, kmax, k, kk, kkk, dk,\n",
    "  mLamF, wmin, wmax, w0, crit, Δ, maxit, nVars, nEErrors)\n",
    "end"
   ]
  },
  {
   "cell_type": "markdown",
   "metadata": {},
   "source": [
    "Next, I define a few functions that perform some widely used calculations in the solution method.\n",
    "* a firm's individual labor demand (`labor_demand`) (from its FOC with respect to labor): $n_{ij} = \\left(\\frac{\\varepsilon_i k_j ^ {\\theta} \\nu}{w} \\right)^{\\frac{1}{1-\\nu}}$\n",
    "* implication of the envelope condition (`envelope`): $\\partial_k v(k) = \\partial_i \\pi(i) = 1 + \\frac{\\chi_1 i}{k}$\n",
    "* drift of capital (`kdot`): $\\dot{k} = i - \\delta k$\n",
    "* optimal investment (`ipol`):\n",
    "    conditional on investing, the firm solves\n",
    "    $$\\max_i \\left( v' i - \\left[i + \\chi_0 + \\frac{\\chi_1}{2} \\left(\\frac{i}{k} \\right)^2 k\\right] \\right)$$\n",
    "    which leads to solution: $i = \\frac{k}{\\chi_1}(v' - 1)$ Invest if the value of investing is positive; if not, investment is 0."
   ]
  },
  {
   "cell_type": "code",
   "execution_count": 20,
   "metadata": {
    "collapsed": false
   },
   "outputs": [
    {
     "data": {
      "text/plain": [
       "ipol (generic function with 1 method)"
      ]
     },
     "execution_count": 20,
     "metadata": {},
     "output_type": "execute_result"
    }
   ],
   "source": [
    "# individual labor function (from FOC)\n",
    "function labor_demand(eg::KTModel, w::Float64, k::Matrix{Float64}, ϵ::Matrix{Float64})\n",
    "  n_i = (w ./ (ϵ .* k .^eg.Θ .* eg.ν)) .^ (1 / (eg.ν - 1))\n",
    "  return n_i\n",
    "end\n",
    "\n",
    "# envelope condition: π' = v'\n",
    "function envelope(eg::KTModel, k::Matrix{Float64}, i::Matrix{Float64})\n",
    "  env = 1 + (eg.χ1 .* i)./k\n",
    "  return env\n",
    "end\n",
    "\n",
    "# drift of capital\n",
    "function kdot(eg::KTModel, k::Matrix{Float64}, i::Matrix{Float64})\n",
    "  kd = i - eg.δ .* k\n",
    "  return kd\n",
    "end\n",
    "\n",
    "# optimal investment, given value function and capital\n",
    "function ipol(eg::KTModel, dV::Matrix{Float64}, k::Matrix{Float64})\n",
    "  i = (k./eg.χ1) .* (dV - 1)\n",
    "  opt_i = i .* (dV.*i - (i + eg.χ0 + (eg.χ1/2).*((i./k).^2) .* k) .>= 0)\n",
    "  netInv = kdot(eg, eg.kk, opt_i)\n",
    "  return opt_i, netInv\n",
    "end"
   ]
  },
  {
   "cell_type": "markdown",
   "metadata": {},
   "source": [
    "The next function does all the work in computing the steady state. The outer loop iterates over the wage guess. The inner loop computes the value function using the implicit scheme. Upon convergence, it computes the stationary distribution from the Kolmogorov-Forward equation. After that, it computes excess labor supply by aggregating up the individual labor policy functions and updates the wage guess accordingly. Once the wage has converged, it computes steady state aggregate consumption, output, and the sdf and returns it all as a `KTss` type."
   ]
  },
  {
   "cell_type": "code",
   "execution_count": 21,
   "metadata": {
    "collapsed": false
   },
   "outputs": [
    {
     "data": {
      "text/plain": [
       "steady_state (generic function with 1 method)"
      ]
     },
     "execution_count": 21,
     "metadata": {},
     "output_type": "execute_result"
    }
   ],
   "source": [
    "#-------------------------------------------------\n",
    "# Function to compute the steady state\n",
    "# (no aggregate shocks case)\n",
    "#-------------------------------------------------\n",
    "\n",
    "function steady_state(eg::KTModel)\n",
    "\n",
    "  # initialize first wage guess\n",
    "  w = eg.w0\n",
    "\n",
    "  dVf = zeros(eg.nK, eg.nE)\n",
    "  dVb = zeros(eg.nK, eg.nE)\n",
    "\n",
    "  # stuff we'll need to access outside the inner for loop\n",
    "  A = spzeros(eg.nK*2, eg.nK*2)\n",
    "  V = zeros(eg.nK, eg.nE)\n",
    "  v = zeros(eg.nK, eg.nE)\n",
    "  g = zeros(eg.nK, eg.nE)\n",
    "  investment = zeros(eg.nK, eg.nE)\n",
    "  If = (investment .> 0)\n",
    "  Ib = (investment .> 0)\n",
    "  I0 = (investment .> 0)\n",
    "\n",
    "  for i = 1:eg.maxit\n",
    "\n",
    "      # labor demand\n",
    "      vLaborDemand = labor_demand(eg, w, eg.kk, eg.ee)\n",
    "\n",
    "      # guess for value function\n",
    "      v0 = (eg.ee .* (eg.kk .^ eg.Θ) .* (vLaborDemand .^ eg.ν) - w * vLaborDemand - eg.δ * eg.kk - eg.χ0 - (eg.χ1/2) * (eg.δ ^ 2))/eg.ρ\n",
    "\n",
    "      # if not the first wage guess, use the value function from last time\n",
    "      if i > 1\n",
    "        v0 = V\n",
    "      end\n",
    "      v = v0\n",
    "\n",
    "      # solve for the value function given w\n",
    "\n",
    "      for n = 1:eg.maxit\n",
    "\n",
    "        V = v;\n",
    "\n",
    "        # compute forward difference\n",
    "        dVf[1:eg.nK-1, :] = (V[2:eg.nK, :] - V[1:eg.nK-1, :]) / eg.dk\n",
    "        dVf[eg.nK, :] = envelope(eg, eg.kk[end,:], eg.kk[end,:].*eg.δ)\n",
    "\n",
    "        # compute backward difference\n",
    "        dVb[2:eg.nK, :] = (V[2:eg.nK, :] - V[1:eg.nK-1, :]) / eg.dk\n",
    "        dVb[1, :] = envelope(eg, eg.kk[1,:], eg.kk[1,:].*eg.δ)\n",
    "\n",
    "        # compute investment and drift with forward difference\n",
    "        invF, netInvF = ipol(eg, dVf, eg.kk)\n",
    "\n",
    "        # compute investment and drift with backward difference\n",
    "        invB, netInvB = ipol(eg, dVb, eg.kk)\n",
    "\n",
    "        # derivative of value function with no drift\n",
    "        dV0 = envelope(eg, ones(eg.nK, eg.nE), ones(eg.nK, eg.nE).*eg.δ)\n",
    "\n",
    "        # upwind method\n",
    "        If = (netInvF .> 1e-20)\n",
    "        Ib = (netInvB .< 1e-20)\n",
    "        I0 = (1 - If - Ib)\n",
    "        dV_Upwind = dVf.*If + dVb.*Ib + dV0.*I0\n",
    "\n",
    "        # compute investment from upwind method\n",
    "        investment, netInv = ipol(eg, dV_Upwind, eg.kk)\n",
    "        u = eg.ee .* (eg.kk .^ eg.Θ) .* (vLaborDemand .^ eg.ν) - w * vLaborDemand  - investment - eg.χ0 * (abs(investment) .> 1e-8) - (eg.χ1 / 2) * ((investment ./ eg.kk) .^ 2) .* eg.kk\n",
    "\n",
    "        # matrices for implicit scheme\n",
    "        X = -min(netInvB, 0) ./ eg.dk\n",
    "        Y = -max(netInvF, 0) ./ eg.dk + min(netInvB, 0) ./ eg.dk\n",
    "        Z = max(netInvF, 0) ./ eg.dk\n",
    "\n",
    "        A1 = spdiagm(Y[:,1], 0, eg.nK, eg.nK) + spdiagm(X[2:eg.nK,1], -1, eg.nK, eg.nK) + spdiagm(Z[1:eg.nK-1,1], 1, eg.nK, eg.nK)\n",
    "        A2 = spdiagm(Y[:,2], 0, eg.nK, eg.nK) + spdiagm(X[2:eg.nK,2], -1, eg.nK, eg.nK) + spdiagm(Z[1:eg.nK-1,2], 1, eg.nK, eg.nK)\n",
    "        A = [A1 spzeros(eg.nK, eg.nK); spzeros(eg.nK,eg.nK) A2] + eg.mLamF\n",
    "\n",
    "        B = (1/eg.Δ + eg.ρ)*speye(2*eg.nK) - A\n",
    "\n",
    "        u_stacked = reshape(u, eg.nE*eg.nK, 1)\n",
    "        V_stacked = reshape(V, eg.nE*eg.nK, 1)\n",
    "        b = u_stacked + V_stacked/eg.Δ\n",
    "\n",
    "        # solve the system\n",
    "        V_stacked = B\\b\n",
    "\n",
    "        V = reshape(V_stacked, eg.nK, eg.nE)\n",
    "\n",
    "        # check for convergence\n",
    "        Vchange = V - v\n",
    "        v = V\n",
    "\n",
    "        dist = maximum(maximum(abs(Vchange)))\n",
    "        if dist < eg.crit\n",
    "          @printf(\"Value function converged, iteration %d.\\n\", n)\n",
    "          break\n",
    "        end\n",
    "      end\n",
    "\n",
    "      ###\n",
    "      # Solve KF equation for stationary distribution\n",
    "      ###\n",
    "\n",
    "      AT = A'\n",
    "      b = zeros(2*eg.nK, 1)\n",
    "\n",
    "      # pdf Normalization\n",
    "      i_fix = 1\n",
    "      b[i_fix] = 0.1\n",
    "      row = [zeros(1, i_fix-1) 1 zeros(1, 2*eg.nK-i_fix)]\n",
    "      AT[i_fix, :] = row\n",
    "\n",
    "      # solve linear system\n",
    "      gg = AT\\b\n",
    "      g_sum = gg'*ones(eg.nE*eg.nK, 1)*eg.dk\n",
    "      gg = gg./g_sum\n",
    "      g = reshape(gg, eg.nK, eg.nE)\n",
    "\n",
    "      # compute excess labor supply\n",
    "      S = (1/3) - sum(reshape(vLaborDemand, eg.nE*eg.nK, 1) .* gg * eg.dk)\n",
    "\n",
    "      # update wage\n",
    "      if S > eg.crit\n",
    "        eg.wmax = w\n",
    "        w = 0.5*(w + eg.wmin)\n",
    "\n",
    "      elseif S < -eg.crit\n",
    "        eg.wmin = w\n",
    "        w = 0.5*(w + eg.wmax)\n",
    "\n",
    "      elseif abs(S) < eg.crit\n",
    "        @printf(\"Steady state wage found: %.3f.\\n\", w)\n",
    "\n",
    "        # compute some aggregates\n",
    "        χ = w / ((1/3) ^ eg.ϕ)\n",
    "        vOutputGrid = eg.ee .*(eg.kk .^ eg.Θ) .* (vLaborDemand .^ eg.ν)\n",
    "        vConsumptionGrid = vOutputGrid - investment - eg.χ0 * (abs(investment) .> 1e-8) - (eg.χ1/2) * ((investment ./ eg.kk) .^2) .* eg.kk\n",
    "        output = sum(vOutputGrid[:] .* g[:] * eg.dk)\n",
    "        consumption = sum(vConsumptionGrid[:] .* g[:] * eg.dk)\n",
    "        sdf = (consumption - χ * ((1/3) ^ (1 + eg.ϕ)) / (1 + eg.ϕ)) .^ (-eg.σ)\n",
    "\n",
    "        # combine steady state variables for input into equilibrium conditions function\n",
    "        varsSS = zeros(eg.nVars, 1)\n",
    "        varsSS[1:eg.nE*eg.nK, 1] = sdf * reshape(v, eg.nE*eg.nK, 1)\n",
    "        ggSS = reshape(g, eg.nE*eg.nK, 1)\n",
    "        varsSS[eg.nE*eg.nK+1:2*eg.nK*eg.nE-1, 1] = ggSS[1:eg.nE*eg.nK-1, 1]\n",
    "        varsSS[2*eg.nE*eg.nK, 1] = sdf\n",
    "        varsSS[2*eg.nE*eg.nK+1, 1] = 0\n",
    "\n",
    "            return KTss(w, output, sdf, v, g, If, Ib, I0, investment, vec(varsSS))\n",
    "        break\n",
    "      end\n",
    "\n",
    "  end\n",
    "\n",
    "end"
   ]
  },
  {
   "cell_type": "markdown",
   "metadata": {},
   "source": [
    "Now I are ready to set up the model and compute its steady state. All that needs to be done is to create a `KTModel` with the default values and run `steady_state` on it."
   ]
  },
  {
   "cell_type": "code",
   "execution_count": 22,
   "metadata": {
    "collapsed": false
   },
   "outputs": [
    {
     "name": "stdout",
     "output_type": "stream",
     "text": [
      "Value function converged, iteration 16.\n",
      "Value function converged, iteration 9.\n",
      "Value function converged, iteration 7.\n",
      "Value function converged, iteration 5.\n",
      "Value function converged, iteration 5.\n",
      "Value function converged, iteration 5.\n",
      "Value function converged, iteration 4.\n",
      "Value function converged, iteration 4.\n",
      "Value function converged, iteration 4.\n",
      "Value function converged, iteration 4.\n",
      "Value function converged, iteration 3.\n",
      "Value function converged, iteration 3.\n",
      "Value function converged, iteration 3.\n",
      "Value function converged, iteration 3.\n",
      "Value function converged, iteration 3.\n",
      "Value function converged, iteration 3.\n",
      "Value function converged, iteration 3.\n",
      "Steady state wage found: 1.273.\n",
      "  0.341850 seconds (511.31 k allocations: 72.004 MB, 4.06% gc time)\n"
     ]
    }
   ],
   "source": [
    "eg = KTModel()\n",
    "@time eg_ss = steady_state(eg);"
   ]
  },
  {
   "cell_type": "markdown",
   "metadata": {},
   "source": [
    "___\n",
    "\n",
    "## Aggregate Dynamics\n",
    "\n",
    "With the steady state in hand, I am now ready to solve for the aggregate dynamics of the model. I will again define a new type and related function that will be useful for this part.\n",
    "* `StateVec`: Contains all the variables that we want to treat as endogenous for `gensys`. Referred to as $\\mathbf{y}(t) = (\\mathbf{v}(t), \\mathbf{g}(t), \\Lambda(t), \\log Z(t))'$ in the description of the solution method. There are no type declarations here, because the automatic differentiation routine will be sending dual numbers to the fields, whereas everywhere else the fields will be matrices or scalars. \n",
    "\n",
    "* `extract` accepts a vector input which contains, in order, the value function, distribution, SDF, and log TFP shock (i.e., everything that should be in $\\mathbf{y}(t)$) and puts them into a `StateVec` type. This is useful because sometimes we'll want to use $\\mathbf{y}(t)$ as a vector, like in simulation, and other times we'll just want easy access to its attributes.\n",
    "\n",
    "\n"
   ]
  },
  {
   "cell_type": "code",
   "execution_count": 23,
   "metadata": {
    "collapsed": false
   },
   "outputs": [
    {
     "data": {
      "text/plain": [
       "extract (generic function with 1 method)"
      ]
     },
     "execution_count": 23,
     "metadata": {},
     "output_type": "execute_result"
    }
   ],
   "source": [
    "#---------------------------------------------------\n",
    "# Define type for the state vector\n",
    "#---------------------------------------------------\n",
    "type StateVec\n",
    "  v\n",
    "  g\n",
    "  g_end\n",
    "  sdf\n",
    "  logAggregateTFP\n",
    "end\n",
    "\n",
    "#---------------------------------------------------\n",
    "# Function that extracts the state from a Vector\n",
    "#---------------------------------------------------\n",
    "function extract(vars, eg::KTModel, eg_ss::KTss)\n",
    "\n",
    "  V = vars[1:eg.nE*eg.nK, 1] + eg_ss.vars[1:eg.nE*eg.nK, 1]\n",
    "  V = reshape(V, eg.nK, eg.nE)\n",
    "  g = vars[eg.nE*eg.nK+1:2*eg.nE*eg.nK-1] + eg_ss.vars[eg.nE*eg.nK+1:2*eg.nE*eg.nK-1]\n",
    "  g_end = 1 / eg.dk - sum(g)\n",
    "  sdf = vars[2*eg.nE*eg.nK, 1] + eg_ss.vars[2*eg.nE*eg.nK, 1]\n",
    "  logAggregateTFP = vars[2*eg.nE*eg.nK+1, 1]\n",
    "\n",
    "  return StateVec(V, g, g_end, sdf, logAggregateTFP)\n",
    "\n",
    "end"
   ]
  },
  {
   "cell_type": "markdown",
   "metadata": {},
   "source": [
    "Next I'll define a few more useful functions that will be needed for the residual function and for computing aggregate economic variables.\n",
    "* analogue of individual labor demand equation with TFP shocks (`agg_labor`)\n",
    "* analogue of investment policy with TFP shocks (`ipol_agg`)\n",
    "* wage determination (`wage`). Comes from combining household and firm FOCs with respect to labor and solving out for the wage, which yields:\n",
    "$$w = \\left[(Z \\nu)^{\\varphi} \\chi^{1-\\nu} I ^{(1-\\nu) \\varphi} \\right]^{\\frac{1}{\\varphi + 1 -\\nu}}$$\n",
    "where $I = \\left[ \\left(\\mathbf{\\varepsilon} \\mathbf{k} ^{\\theta} \\right)^{\\frac{1}{1-\\nu}} \\right]' \\mathbf{g}$."
   ]
  },
  {
   "cell_type": "code",
   "execution_count": 24,
   "metadata": {
    "collapsed": false
   },
   "outputs": [
    {
     "data": {
      "text/plain": [
       "wage (generic function with 1 method)"
      ]
     },
     "execution_count": 24,
     "metadata": {},
     "output_type": "execute_result"
    }
   ],
   "source": [
    "# labor demand for case with aggregate shocks\n",
    "function agg_labor(eg::KTModel, state::StateVec, w, k, ϵ)\n",
    "  vLaborDemand = ((eg.ν * exp(state.logAggregateTFP) * ϵ .* (k .^ eg.Θ)) * (w ^ (-1))) .^ (1 / (1 - eg.ν))\n",
    "  vLaborDemand = reshape(vLaborDemand, eg.nK, eg.nE)\n",
    "  return vLaborDemand\n",
    "end\n",
    "\n",
    "# optimal investment for case with aggregate shocks\n",
    "function ipol_agg(eg::KTModel, state::StateVec, dV, k)\n",
    "  inv = (k / eg.χ1) .* ((reshape(dV,eg.nE*eg.nK,1) * (state.sdf ^ (-1))) - 1)\n",
    "  inv = inv .* (reshape(dV,eg.nE*eg.nK,1) .* inv - state.sdf * (inv + eg.χ0 + (eg.χ1 / 2) * ((inv ./ k) .^ 2) .* k) .>= 0)\n",
    "  netInv = reshape(inv - eg.δ * k, eg.nK, eg.nE)\n",
    "  return inv, netInv\n",
    "end\n",
    "\n",
    "# wage for case with aggregate shocks\n",
    "function wage(eg::KTModel, eg_ss::KTss, state::StateVec, k, ϵ)\n",
    "  vIntegrandGrid = (ϵ .* (k .^ eg.Θ)) .^ (1 / (1 - eg.ν))\n",
    "  integral = sum(vIntegrandGrid[1:eg.nE*eg.nK-1] .* state.g * eg.dk) + state.g_end * eg.dk * vIntegrandGrid[eg.nE*eg.nK]\n",
    "  χ = eg_ss.w / ((1/3) ^ eg.ϕ)\n",
    "  w = ((χ ^ (1 - eg.ν)) * ((exp(state.logAggregateTFP) * eg.ν) ^ eg.ϕ) * (integral ^ (eg.ϕ * (1 - eg.ν)))) ^ (1 / (eg.ϕ + 1 - eg.ν))\n",
    "  return w, χ\n",
    "end"
   ]
  },
  {
   "cell_type": "markdown",
   "metadata": {},
   "source": [
    "Now, I write a function for computing the residual function:\n",
    "$$\n",
    "\t\\mathbf{F}(\\mathbf{y}(t), \\dot{\\mathbf{y}}(t), \\mathbf{z}(t), \\mathbf{\\eta}(t)) =\n",
    "\t\\begin{bmatrix}\n",
    "\t\t\\mathbf{\\pi}(t) + \\mathbf{A}(t) \\mathbf{v}(t) + \\dot{\\mathbf{v}}(t) - \\mathbf{\\eta}_{\\mathbf{v}}(t) - \\rho \\mathbf{v}(t) \\\\\n",
    "\t\t\\mathbf{A}(t)^T \\mathbf{g}(t) - \\dot{\\mathbf{g}}(t) \\\\\n",
    "\t\t\\Lambda(t) - \\left(C(t) - \\chi \\frac{N(t)^{1+\\varphi}}{1+\\varphi} \\right)^{-\\sigma} \\\\\n",
    "\t\t- (1 - \\rho_z) \\log Z(t) dt + \\sigma_z \\mathbf{z}(t) - \\dot{\\log Z}(t)\n",
    "\t\\end{bmatrix}$$\n",
    "    \n",
    "Except here, the first input will actually be $\\hat{\\mathbf{y}}(t) = \\mathbf{y}(t) - \\mathbf{y}^*$, where $\\mathbf{y}^*$ is the steady state solution to the model, so that feeding the function a vector of zeros will give its value at steady state. This function is designed with just one vector input and one vector output. That's because of restrictions on the types of functions that the automatic differentiation routine can work with. Notice that the `KTModel` and `KTss` types created before are still able to be passed through to the function."
   ]
  },
  {
   "cell_type": "code",
   "execution_count": 25,
   "metadata": {
    "collapsed": false
   },
   "outputs": [
    {
     "data": {
      "text/plain": [
       "equilibrium_conditions (generic function with 1 method)"
      ]
     },
     "execution_count": 25,
     "metadata": {},
     "output_type": "execute_result"
    }
   ],
   "source": [
    "#------------------------------------------------------\n",
    "# Function to compute equilibrium conditions in gensys form\n",
    "# -----------------------------------------------------\n",
    "\n",
    "function equilibrium_conditions(vars::Vector)\n",
    "\n",
    "  # unpack the input\n",
    "\n",
    "  # everything in y\n",
    "  state = extract(vars[1:eg.nVars], eg, eg_ss)\n",
    "\n",
    "  # everything in ydot\n",
    "  vDot = vars[eg.nVars+1:eg.nVars+eg.nE*eg.nK, 1]\n",
    "  gDot = vars[eg.nVars+eg.nE*eg.nK+1:eg.nVars+2*eg.nE*eg.nK-1, 1]\n",
    "  sdfDot = vars[eg.nVars+2*eg.nE*eg.nK, 1]\n",
    "  logAggregateTFPDot = vars[eg.nVars+2*eg.nE*eg.nK+1, 1]\n",
    "\n",
    "  # everything in η\n",
    "  VEErrors = vars[2*eg.nVars+1:2*eg.nVars+eg.nE*eg.nK, 1]\n",
    "\n",
    "  # everything in z\n",
    "  aggregateTFPShock = vars[2*eg.nVars+eg.nEErrors+1, 1]\n",
    "\n",
    "  dVf = zeros(state.v)\n",
    "  dVb = zeros(state.v)\n",
    "\n",
    "  # compute wage\n",
    "  w, χ = wage(eg, eg_ss, state, eg.kkk, eg.eee)\n",
    "\n",
    "  # firm HJB\n",
    "  vLaborDemand = agg_labor(eg, state, w, eg.kkk, eg.eee)\n",
    "\n",
    "  # forward difference\n",
    "  dVf[1:eg.nK-1,:] = (state.v[2:eg.nK,:] - state.v[1:eg.nK-1,:]) / eg.dk\n",
    "  dVf[eg.nK,:] = (state.sdf * (1 + eg.δ * eg.χ1)).*ones(1,eg.nE)\n",
    "\n",
    "  # backward difference\n",
    "  dVb[2:eg.nK,:] = (state.v[2:eg.nK,:] - state.v[1:eg.nK-1,:]) / eg.dk\n",
    "  dVb[1,:] = (state.sdf * (1 + eg.δ * eg.χ1)).*ones(1,eg.nE)\n",
    "\n",
    "  # investment policy with forward difference\n",
    "  invF, netInvF = ipol_agg(eg, state, dVf, eg.kkk)\n",
    "\n",
    "  # investment policy with backward difference\n",
    "  invB, netInvB = ipol_agg(eg, state, dVb, eg.kkk)\n",
    "\n",
    "  # derivative of value function with no drift\n",
    "  dV0 = state.sdf * (1 + eg.δ * eg.χ1) * ones(eg.nK,eg.nE)\n",
    "\n",
    "  # upwind method\n",
    "  dV_Upwind = dVf .* eg_ss.If + dVb .* eg_ss.Ib + dV0 .* eg_ss.I0\n",
    "\n",
    "  # investment using upwind method\n",
    "  investment, netInv = ipol_agg(eg, state, dV_Upwind, eg.kkk)\n",
    "\n",
    "  # profits\n",
    "  u = state.sdf * (exp(state.logAggregateTFP) * eg.eee .* (eg.kkk .^ eg.Θ) .* (reshape(vLaborDemand,eg.nK*eg.nE,1) .^ eg.ν) - w * reshape(vLaborDemand,eg.nK*eg.nE,1) - investment - eg.χ0 * (abs(investment) .> 1e-8) - (eg.χ1 / 2) * ((investment ./ eg.kkk) .^ 2) .* eg.kkk)\n",
    "\n",
    "  # construct A matrix\n",
    "  X = -netInvB.*eg_ss.Ib/eg.dk\n",
    "  Y = -netInvF.*eg_ss.If/eg.dk + netInvB.*eg_ss.Ib/eg.dk\n",
    "  Z = netInvF.*eg_ss.If/eg.dk\n",
    "  X[1,:]=0\n",
    "  lowdiag = reshape(X,eg.nE*eg.nK,1)\n",
    "  Z[eg.nK,:]=0\n",
    "  updiag = reshape(Z,eg.nE*eg.nK,1)\n",
    "  A = spdiagm(vec(reshape(Y,eg.nE*eg.nK,1)),0,eg.nE*eg.nK,eg.nE*eg.nK) + spdiagm(lowdiag[2:eg.nE*eg.nK],-1,eg.nE*eg.nK,eg.nE*eg.nK) + spdiagm(updiag[1:eg.nE*eg.nK-1],1,eg.nE*eg.nK,eg.nE*eg.nK) + eg.mLamF\n",
    "\n",
    "  # equilibrium conditions\n",
    "\n",
    "  # firm HJB\n",
    "  hjbResidual = reshape(u,eg.nE*eg.nK,1) + A * reshape(state.v,eg.nE*eg.nK,1) + vDot - VEErrors - eg.ρ * reshape(state.v,eg.nE*eg.nK,1)\n",
    "\n",
    "  # firm KFE\n",
    "  gDotIntermediate = A' * [state.g; state.g_end]\n",
    "  gResidual = gDot - gDotIntermediate[1:eg.nE*eg.nK-1,1]\n",
    "\n",
    "  # sdf\n",
    "  vConsumptionGrid = (exp(state.logAggregateTFP) * eg.eee .* (eg.kkk .^ eg.Θ) .* (reshape(vLaborDemand,eg.nK*eg.nE,1) .^ eg.ν)) - investment - eg.χ0 * (abs(investment) .> 1e-8) - (eg.χ1 / 2) * ((investment ./ eg.kkk) .^ 2) .* eg.kkk\n",
    "  consumption = sum(vConsumptionGrid .* [state.g; state.g_end] * eg.dk)\n",
    "  labor = (w / χ) ^ (1 / eg.ϕ)\n",
    "  sdfResidual = (consumption - χ * ((labor ^ (1 + eg.ϕ)) / (1 + eg.ϕ))) ^ (-eg.σ) - state.sdf\n",
    "\n",
    "  # aggregate shocks\n",
    "  tfpResidual = logAggregateTFPDot + (1 - eg.ρTFP) * state.logAggregateTFP - eg.σTFP * aggregateTFPShock\n",
    "\n",
    "  vResidual = [hjbResidual; gResidual; sdfResidual; tfpResidual]\n",
    "\n",
    "  return vec(vResidual)\n",
    "\n",
    "end\n"
   ]
  },
  {
   "cell_type": "markdown",
   "metadata": {},
   "source": [
    "Now, we need to find the Jacobian of this function and evaluate it at the steady state (which is a vector of zeros here). For this, I use the package [ForwardDiff.jl](https://github.com/JuliaDiff/ForwardDiff.jl)."
   ]
  },
  {
   "cell_type": "code",
   "execution_count": 26,
   "metadata": {
    "collapsed": false
   },
   "outputs": [
    {
     "name": "stdout",
     "output_type": "stream",
     "text": [
      "  0.352908 seconds (251.05 k allocations: 265.720 MB, 13.16% gc time)\n"
     ]
    }
   ],
   "source": [
    "using ForwardDiff\n",
    "\n",
    "# compute Jacobian of equilibrium_conditions at steady state\n",
    "ss = vec(zeros(2*eg.nVars + eg.nEErrors +1, 1))\n",
    "@time derivs = ForwardDiff.jacobian(equilibrium_conditions, ss);"
   ]
  },
  {
   "cell_type": "markdown",
   "metadata": {},
   "source": [
    "The next step is to send these derivatives into `gensys`. We want to solve the model:\n",
    "\n",
    "$$\n",
    "\t\\mathbf{F}^*_1(\\mathbf{y}(t) - \\mathbf{y}^*) + \\mathbf{F}_2^* \\dot{\\mathbf{y}}(t) + \\mathbf{F}_3^* \\mathbf{z}(t) + \\mathbf{F}_4^* \\mathbf{\\eta}(t) \\approx \\mathbf{0}\n",
    "$$\n",
    "\n",
    "$\\mathbf{F}^*_1, \\mathbf{F}_2^*, \\mathbf{F}_3^*$, and $\\mathbf{F}_4^*$ are the partial derivative matrices of $\\mathbf{F}$ evaluated at the steady state. This comes from a first-order Taylor expansion of the residual function about the steady state. `gensys` accepts inputs in the following format:\n",
    "$$\n",
    "\\mathbf{\\Gamma_0}\\dot{\\mathbf{y}}(t) = \\mathbf{c} + \\mathbf{\\Gamma_1}\\mathbf{y}(t) + \\mathbf{\\Psi}\\mathbf{z}(t) + \\mathbf{\\Pi}\\mathbf{\\eta}(t)\n",
    "$$\n",
    "so in the next block of code, I unpack the derivative matrix and re-arrange for input into `gensys`."
   ]
  },
  {
   "cell_type": "code",
   "execution_count": 27,
   "metadata": {
    "collapsed": false
   },
   "outputs": [],
   "source": [
    "# unpackage the partial derivatives\n",
    "mVarsDerivs = derivs[:,1:eg.nVars];\n",
    "mVarsDotDerivs = derivs[:,eg.nVars+1:2*eg.nVars]\n",
    "mEErrorsDerivs = derivs[:,2*eg.nVars+1:2*eg.nVars+eg.nEErrors]\n",
    "mShocksDerivs = derivs[:,2*eg.nVars+eg.nEErrors+1]\n",
    "\n",
    "# re-arrange into gensys form\n",
    "Γ0 = mVarsDotDerivs\n",
    "Γ1 = -mVarsDerivs\n",
    "c = spzeros(eg.nVars, 1)\n",
    "Ψ = -mShocksDerivs\n",
    "Π= -mEErrorsDerivs;"
   ]
  },
  {
   "cell_type": "markdown",
   "metadata": {},
   "source": [
    "Below is my `gensys` function. It is based on [Chris Sims' algorithm](http://sims.princeton.edu/yftp/gensys/LINRE3A.pdf). It differs from other Julia implementations (like the [New York Fed's](https://github.com/FRBNY-DSGE/DSGE.jl/blob/master/src/solve/gensys.jl)) because it uses the continuous time version, in which the eigenvalues are ordered differently."
   ]
  },
  {
   "cell_type": "code",
   "execution_count": 28,
   "metadata": {
    "collapsed": false
   },
   "outputs": [
    {
     "data": {
      "text/plain": [
       "gensys (generic function with 1 method)"
      ]
     },
     "execution_count": 28,
     "metadata": {},
     "output_type": "execute_result"
    }
   ],
   "source": [
    "#---------------------------------------------------\n",
    "# Implements gensys for a continuous time process\n",
    "# Note: doesn't check for existence/uniqueness\n",
    "#---------------------------------------------------\n",
    "\n",
    "function gensys(Γ0, Γ1, c, Ψ, Π)\n",
    "\n",
    "  # put into reduced form\n",
    "  temp = (maximum(abs([Γ0 Ψ]), 2) .== 0)\n",
    "  redundant = find(temp)\n",
    "  base = nullspace(Γ1[redundant, :])\n",
    "\n",
    "  Γ0 = base'*Γ0*base\n",
    "  Γ1 = base'*Γ1*base\n",
    "  Γ1 = Γ0\\Γ1\n",
    "  Ψ = Γ0\\base'*Ψ\n",
    "  Π = Γ0\\base'*Π\n",
    "  c = Γ0\\base'*c\n",
    "\n",
    "  # Schur factorization, re-order eigenvalues\n",
    "  n = size(Γ1, 1)\n",
    "  Γ1 = schurfact!(Γ1)\n",
    "  select = real(Γ1[:values]) .< 0\n",
    "  ordschur!(Γ1, select)\n",
    "  nunstab = sum(select)\n",
    "  U = Γ1[:vectors]\n",
    "  T = Γ1[:Schur]\n",
    "\n",
    "  # compute G1\n",
    "  G1 = U*T*spdiagm(vec([ones(n-nunstab, 1); zeros(nunstab, 1)]), 0, n, n)*U'\n",
    "  G1 = real(G1)\n",
    "  G1 = base*G1*base'\n",
    "\n",
    "  # compute impact\n",
    "  u2=U[:,n-nunstab+1:n]'\n",
    "  u1=U[:,1:n-nunstab]'\n",
    "\n",
    "  etawt = u2*Π\n",
    "  etawt_fac = svdfact!(etawt)\n",
    "  ueta, deta, veta  = etawt_fac[:U], etawt_fac[:S], etawt_fac[:V]\n",
    "  md = minimum(size(deta))\n",
    "  realsmall = sqrt(eps())*10\n",
    "  bigev = find((deta[1:md]) .> realsmall)\n",
    "  ueta = ueta[:, bigev]\n",
    "  veta = veta[:, bigev]\n",
    "  deta = deta[bigev]\n",
    "\n",
    "  zwt = u2*Ψ\n",
    "  impact = real(-Π * veta * (diagm(deta)\\ueta')*u2*Ψ + Ψ)\n",
    "  impact = base*impact\n",
    "\n",
    "  return G1, impact\n",
    "\n",
    "end"
   ]
  },
  {
   "cell_type": "markdown",
   "metadata": {},
   "source": [
    "Now we send the partial derivative matrices to `gensys`, and we have our solution!"
   ]
  },
  {
   "cell_type": "code",
   "execution_count": 29,
   "metadata": {
    "collapsed": false
   },
   "outputs": [
    {
     "name": "stdout",
     "output_type": "stream",
     "text": [
      "  0.393255 seconds (19.21 k allocations: 47.755 MB, 1.43% gc time)\n"
     ]
    }
   ],
   "source": [
    "# solve system using gensys\n",
    "@time G1, impact = gensys(Γ0, Γ1, c, Ψ, Π);"
   ]
  },
  {
   "cell_type": "markdown",
   "metadata": {},
   "source": [
    "___\n",
    "\n",
    "## Simulation\n",
    "\n",
    "Here, I'll define a new type and new function useful for simulating the model. The type `Aggregates` will store all the aggregate variables of interest for a given point in the simulation. The corresponding function computes these, given the wage, investment, and labor policies, and outputs an `Aggregates` type."
   ]
  },
  {
   "cell_type": "code",
   "execution_count": 30,
   "metadata": {
    "collapsed": false
   },
   "outputs": [
    {
     "data": {
      "text/plain": [
       "Aggregates"
      ]
     },
     "execution_count": 30,
     "metadata": {},
     "output_type": "execute_result"
    }
   ],
   "source": [
    "#-------------------------------------------------\n",
    "# Define type for aggregate variables for simulation\n",
    "#-------------------------------------------------\n",
    "\n",
    "type Aggregates\n",
    "\n",
    "  Investment::Float64\n",
    "  Capital::Float64\n",
    "  Consumption::Float64\n",
    "  Output::Float64\n",
    "  Hours::Float64\n",
    "  Wage::Float64\n",
    "  SDF::Float64\n",
    "  Dist1::Vector{Float64}\n",
    "  Dist2::Vector{Float64}\n",
    "  InvPol1::Vector{Float64}\n",
    "  InvPol2::Vector{Float64}\n",
    "\n",
    "end\n",
    "\n",
    "#--------------------------------------------------\n",
    "# Function that computes aggregate variables\n",
    "#--------------------------------------------------\n",
    "\n",
    "function Aggregates(eg::KTModel, eg_ss::KTss, state::StateVec, w::Float64, χ::Float64, vLaborDemand::Matrix{Float64}, investment::Matrix{Float64}, k, ϵ)\n",
    "\n",
    "  Investment = sum(investment .* [state.g; state.g_end] * eg.dk)\n",
    "  Capital = sum(k .* [state.g; state.g_end] * eg.dk)\n",
    "  vConsumptionGrid = (exp(state.logAggregateTFP) * ϵ .* (k .^ eg.Θ) .* (reshape(vLaborDemand,eg.nK*eg.nE,1) .^ eg.ν)) - investment - eg.χ0 * (abs(investment) .> 1e-8) - (eg.χ1 / 2) * ((investment ./ k) .^ 2) .* k\n",
    "  Consumption = sum(vConsumptionGrid .* [state.g; state.g_end] * eg.dk)\n",
    "  vOutputGrid = (exp(state.logAggregateTFP) * ϵ .* (k .^ eg.Θ) .* (reshape(vLaborDemand,eg.nK*eg.nE,1) .^ eg.ν))\n",
    "  Output = sum(vOutputGrid[:] .* [state.g; state.g_end] * eg.dk)\n",
    "  Hours = (w / χ) ^ (1 / eg.ϕ)\n",
    "  Wage = w\n",
    "  SDF = state.sdf\n",
    "  Dist1 = state.g[1:eg.nK]\n",
    "  Dist2 = [state.g[eg.nK+1:2*eg.nK-1]; state.g_end]\n",
    "  InvPol1 = investment[1:eg.nK]\n",
    "  InvPol2 = investment[eg.nK+1:2*eg.nK]\n",
    "\n",
    "  Aggregates(Investment, Capital, Consumption, Output, Hours, Wage, SDF, vec(Dist1), vec(Dist2), vec(InvPol1), vec(InvPol2))\n",
    "\n",
    "end"
   ]
  },
  {
   "cell_type": "markdown",
   "metadata": {},
   "source": [
    "To simulate the model, we just need to iterate on:\n",
    "$$\n",
    "\\mathbf{y}(t + \\Delta_t) \\approx (\\Delta_t \\mathbf{G}_t + \\mathbf{I}) \\mathbf{y}(t) + \\mathbf{\\Theta} \\sqrt{\\Delta_t} \\varepsilon (t)\n",
    "$$\n",
    "where $\\Delta_t$ is a time step length. The function `simulate` does exactly that, then computes all the aggregates we may be interested in at each point in the simulation. It returns both the $\\mathbf{y}(t)$ series (`state_series`) as an array of type `StateVec` as well as the series of aggregates (`agg_series`) as an array of type `Aggregates`."
   ]
  },
  {
   "cell_type": "code",
   "execution_count": 31,
   "metadata": {
    "collapsed": false
   },
   "outputs": [
    {
     "data": {
      "text/plain": [
       "simulate (generic function with 1 method)"
      ]
     },
     "execution_count": 31,
     "metadata": {},
     "output_type": "execute_result"
    }
   ],
   "source": [
    "function simulate(eg::KTModel, eg_ss::KTss, vAggregateShock, G1, impact, N, dt)\n",
    "\n",
    "  # endogenous variables\n",
    "  vVarsSeries = zeros(eg.nVars, N+1)\n",
    "\n",
    "  # time series for aggregates\n",
    "  agg_series = Array(Aggregates, N)\n",
    "\n",
    "  # time series for endogenous state\n",
    "  state_series = Array(StateVec, N+1)\n",
    "  state_series[1] = extract(zeros(eg.nVars, 1), eg, eg_ss)\n",
    "\n",
    "  # simulate\n",
    "  for n = 1 : N\n",
    "\n",
    "    # endogenous variables\n",
    "    vVarsSeries[:, n+1] = (dt * G1 + speye(eg.nVars)) * vVarsSeries[:,n] + (dt ^ (1 / 2)) * impact * vAggregateShock[n,1]'\n",
    "\n",
    "    # extract relevant objects\n",
    "    vars = vVarsSeries[:, n+1]\n",
    "    state = extract(vars, eg, eg_ss)\n",
    "    state_series[n+1] = state\n",
    "    dVf = zeros(state.v)\n",
    "    dVb = zeros(state.v)\n",
    "\n",
    "    # Wage\n",
    "    w, χ = wage(eg, eg_ss, state, eg.kkk, eg.eee)\n",
    "\n",
    "    # Labor demand\n",
    "    vLaborDemand = agg_labor(eg, state, w, eg.kkk, eg.eee)\n",
    "\n",
    "    # Compute forward difference\n",
    "\tdVf[1:eg.nK-1,:] = (state.v[2:eg.nK,:] - state.v[1:eg.nK-1,:]) / eg.dk\n",
    "\tdVf[eg.nK,:] = (state.sdf * (1 + eg.δ * eg.χ1)).*ones(1,eg.nE)\n",
    "\n",
    "\t# Compute backward difference\n",
    "\tdVb[2:eg.nK,:] = (state.v[2:eg.nK,:] - state.v[1:eg.nK-1,:]) / eg.dk\n",
    "\tdVb[1,:] = (state.sdf * (1 + eg.δ * eg.χ1)).*ones(1,eg.nE)\n",
    "\n",
    "    # Compute investment policy with forward difference\n",
    "    invF, netInvF = ipol_agg(eg, state, dVf, eg.kkk)\n",
    "\n",
    "    # Compute investment policy with backward difference\n",
    "    invB, netInvB = ipol_agg(eg, state, dVb, eg.kkk)\n",
    "\n",
    "    # Compute derivative of value function with no drift\n",
    "\tdV0 = state.sdf * (1 + eg.δ * eg.χ1) * ones(eg.nK,eg.nE)\n",
    "\n",
    "    # Compute upwind differences\n",
    "\tdV_Upwind = dVf .* eg_ss.If + dVb .* eg_ss.Ib + dV0 .* eg_ss.I0\n",
    "    investment, netInv = ipol_agg(eg, state, dV_Upwind, eg.kkk)\n",
    "\n",
    "    # compute aggregates\n",
    "    aggs = Aggregates(eg, eg_ss, state, w, χ, vLaborDemand, investment, eg.kkk, eg.eee)\n",
    "    agg_series[n] = aggs\n",
    "\n",
    "  end\n",
    "\n",
    "  return agg_series, state_series\n",
    "end\n"
   ]
  },
  {
   "cell_type": "markdown",
   "metadata": {},
   "source": [
    "Now, I set up the time step, `dt`, and set up the number of simulation \"periods\", `T`. I simulate a one-time positive shock to TFP in the first \"period\" and then revert back to steady state for the rest of the simulation."
   ]
  },
  {
   "cell_type": "code",
   "execution_count": 32,
   "metadata": {
    "collapsed": false
   },
   "outputs": [
    {
     "name": "stdout",
     "output_type": "stream",
     "text": [
      "  4.540917 seconds (2.01 M allocations: 7.738 GB, 26.47% gc time)\n"
     ]
    }
   ],
   "source": [
    "# time discretization\n",
    "T = 200\n",
    "dt = 0.1\n",
    "N = T/dt\n",
    "N = round(Int, N)\n",
    "\n",
    "vAggregateShock = zeros(N, 1)\n",
    "vAggregateShock[1:1/dt, 1] = 0.1\n",
    "\n",
    "@time agg_series, state_series = simulate(eg, eg_ss, vAggregateShock, G1, impact, N, dt);"
   ]
  },
  {
   "cell_type": "markdown",
   "metadata": {
    "collapsed": true
   },
   "source": [
    "___\n",
    "\n",
    "## Charts"
   ]
  },
  {
   "cell_type": "code",
   "execution_count": 33,
   "metadata": {
    "collapsed": false
   },
   "outputs": [
    {
     "data": {
      "image/png": "[encoded data removed]",
      "text/plain": [
       "PyPlot.Figure(PyObject <matplotlib.figure.Figure object at 0x32749f6d0>)"
      ]
     },
     "metadata": {},
     "output_type": "display_data"
    }
   ],
   "source": [
    "using PyPlot\n",
    "\n",
    "fig, axes = subplots(1,2)\n",
    "ax = axes[1]\n",
    "ax[:plot](eg.k, eg_ss.investment[:,1], \"b--\", lw = 2, label = L\"\\varepsilon = \\varepsilon_L\")\n",
    "ax[:plot](eg.k, eg_ss.investment[:,2], \"r-\", lw = 2, label = L\"\\varepsilon = \\varepsilon_H\")\n",
    "ax[:legend](ncol = 1, fontsize = 12)\n",
    "ax[:set_xlabel](\"Capital stock\")\n",
    "ax[:set_title](\"Investment Policies\")\n",
    "ax[:set_aspect](9)\n",
    "\n",
    "ax = axes[2]\n",
    "ax[:plot](eg.k, eg_ss.g[:,1], \"b--\", lw = 2, label = L\"\\varepsilon = \\varepsilon_L\")\n",
    "ax[:plot](eg.k, eg_ss.g[:,2], \"r-\", lw = 2, label = L\"\\varepsilon = \\varepsilon_H\")\n",
    "ax[:legend](ncol = 1, fontsize = 12)\n",
    "ax[:set_xlabel](\"Capital stock\")\n",
    "ax[:set_ylim]([0, 1.6])\n",
    "ax[:set_title](\"Steady State Distributions\")\n",
    "ax[:set_aspect](\"equal\")"
   ]
  },
  {
   "cell_type": "code",
   "execution_count": 34,
   "metadata": {
    "collapsed": false
   },
   "outputs": [
    {
     "data": {
      "image/png": "[encoded data removed]",
      "text/plain": [
       "PyPlot.Figure(PyObject <matplotlib.figure.Figure object at 0x31b8e7850>)"
      ]
     },
     "metadata": {},
     "output_type": "display_data"
    },
    {
     "data": {
      "text/plain": [
       "PyObject <matplotlib.text.Text object at 0x327199bd0>"
      ]
     },
     "execution_count": 34,
     "metadata": {},
     "output_type": "execute_result"
    }
   ],
   "source": [
    "# compute some impulse responses\n",
    "\n",
    "inv_irf = zeros(N,1)\n",
    "cap_irf = zeros(N,1)\n",
    "cons_irf = zeros(N,1)\n",
    "out_irf = zeros(N,1)\n",
    "hrs_irf = zeros(N,1)\n",
    "wage_irf = zeros(N,1)\n",
    "\n",
    "for n = 1:N\n",
    "    inv_irf[n] = 100*(agg_series[n].Investment - agg_series[N].Investment)/agg_series[N].Investment\n",
    "    cap_irf[n] = 100*(agg_series[n].Capital - agg_series[N].Capital)/agg_series[N].Capital\n",
    "    cons_irf[n] = 100*(agg_series[n].Consumption - agg_series[N].Consumption)/agg_series[N].Consumption\n",
    "    out_irf[n] = 100*(agg_series[n].Output - agg_series[N].Output)/agg_series[N].Output\n",
    "    hrs_irf[n] = 100*(agg_series[n].Hours - agg_series[N].Hours)/agg_series[N].Hours\n",
    "    wage_irf[n] = 100*(agg_series[n].Wage - agg_series[N].Wage)/agg_series[N].Wage\n",
    "end\n",
    "\n",
    "t = linspace(1, T, N)\n",
    "\n",
    "fig, axes = subplots(3,2, figsize = (10,10))\n",
    "ax = axes[1]\n",
    "ax[:plot](t, inv_irf, \"b-\", lw = 2)\n",
    "ax[:set_title](\"Investment\")\n",
    "ax[:set_ylabel](\"% Deviation from Steady State\", fontsize = 10)\n",
    "ax[:set_ylim]([0, 1.6])\n",
    "\n",
    "ax = axes[2]\n",
    "ax[:plot](t, cap_irf, \"b-\", lw = 2)\n",
    "ax[:set_title](\"Capital\")\n",
    "ax[:set_ylabel](\"% Deviation from Steady State\", fontsize = 10)\n",
    "ax[:set_ylim]([0, 0.25])\n",
    "\n",
    "ax = axes[3]\n",
    "ax[:plot](t, cons_irf, \"b-\", lw = 2)\n",
    "ax[:set_title](\"Consumption\")\n",
    "ax[:set_xlabel](\"Quarters\")\n",
    "ax[:set_ylabel](\"% Deviation from Steady State\", fontsize = 10)\n",
    "\n",
    "ax = axes[4]\n",
    "ax[:plot](t, out_irf, \"b-\", lw = 2)\n",
    "ax[:set_title](\"Output\")\n",
    "\n",
    "ax = axes[5]\n",
    "ax[:plot](t, hrs_irf, \"b-\", lw = 2)\n",
    "ax[:set_title](\"Hours\")\n",
    "\n",
    "ax = axes[6]\n",
    "ax[:plot](t, wage_irf, \"b-\", lw = 2)\n",
    "ax[:set_xlabel](\"Quarters\")\n",
    "ax[:set_title](\"Wage\")"
   ]
  }
 ],
 "metadata": {
  "kernelspec": {
   "display_name": "Julia 0.4.3",
   "language": "julia",
   "name": "julia-0.4"
  },
  "language_info": {
   "file_extension": ".jl",
   "mimetype": "application/julia",
   "name": "julia",
   "version": "0.4.3"
  }
 },
 "nbformat": 4,
 "nbformat_minor": 0
}
